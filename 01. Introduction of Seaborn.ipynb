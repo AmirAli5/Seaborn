{
 "cells": [
  {
   "cell_type": "markdown",
   "metadata": {},
   "source": [
    "## What is Seaborn?\n",
    "* Seaborn is a Python data visualization library based on matplotlib.\n",
    "* It provides a high-level interface for drawing attractive and informative statistical graphics.\n",
    "\n",
    "![](https://ksopyla.com/wp-content/uploads/2016/11/seaborn_examples.jpg)"
   ]
  },
  {
   "cell_type": "markdown",
   "metadata": {},
   "source": [
    "## 2. Seaborn vs Matplotlib\n",
    "\n",
    "1. <b>Seaborn </b> utilises fascinating themes, while <b>matplotlib </b> used for making basic graphs. \n",
    "2. <b>Seaborn </b> contains a few plots and patterns for data visualisation, while in <b> matplotlib </b>, datasets are visualised with the assistance of lines, scatter plots, pie charts, histograms, bar-graphs, etc"
   ]
  },
  {
   "cell_type": "markdown",
   "metadata": {},
   "source": [
    "## 3. Seaborn Graphics\n",
    "* Heatmap\n",
    "* Pair plot\n",
    "* Facet grid\n",
    "* Bar Plot\n",
    "* Scatterplot\n",
    "* Line plot\n",
    "* Displot\n",
    "* Boxplot\n",
    "* Violin plot"
   ]
  },
  {
   "cell_type": "markdown",
   "metadata": {},
   "source": [
    "## 4. Dependency of Seaborn"
   ]
  },
  {
   "cell_type": "markdown",
   "metadata": {},
   "source": [
    "* Pyhton\n",
    "* NumPy\n",
    "* Pandas\n",
    "* Matplotlib\n",
    "* SciPy"
   ]
  },
  {
   "cell_type": "markdown",
   "metadata": {},
   "source": [
    "## 5. Installation of Seaborn\n",
    "\n",
    "pip install seaborn"
   ]
  },
  {
   "cell_type": "markdown",
   "metadata": {},
   "source": [
    "## 6. Import Seaborn"
   ]
  },
  {
   "cell_type": "code",
   "execution_count": 2,
   "metadata": {},
   "outputs": [],
   "source": [
    "import seaborn as sns"
   ]
  }
 ],
 "metadata": {
  "kernelspec": {
   "display_name": "Python 3",
   "language": "python",
   "name": "python3"
  },
  "language_info": {
   "codemirror_mode": {
    "name": "ipython",
    "version": 3
   },
   "file_extension": ".py",
   "mimetype": "text/x-python",
   "name": "python",
   "nbconvert_exporter": "python",
   "pygments_lexer": "ipython3",
   "version": "3.6.1"
  }
 },
 "nbformat": 4,
 "nbformat_minor": 2
}
